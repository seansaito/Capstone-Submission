{
 "cells": [
  {
   "cell_type": "markdown",
   "metadata": {},
   "source": [
    "# Autoencoder Implemented in Tensorflow"
   ]
  },
  {
   "cell_type": "code",
   "execution_count": null,
   "metadata": {
    "collapsed": false
   },
   "outputs": [],
   "source": [
    "%matplotlib inline\n",
    "from __future__ import division, print_function, absolute_import\n",
    "import numpy as np\n",
    "import tensorflow as tf\n",
    "from keras.datasets import mnist\n",
    "from PIL import Image\n",
    "import cv2\n",
    "import matplotlib.pyplot as plt\n",
    "import os\n",
    "\n",
    "from sklearn.cross_validation import train_test_split\n",
    "\n",
    "# Import MNIST data\n",
    "from tensorflow.examples.tutorials.mnist import input_data\n",
    "mnist = input_data.read_data_sets(\"MNIST_data\", one_hot=False)\n",
    "\n",
    "# Parameters\n",
    "learning_rate = 0.01\n",
    "training_epochs = 200\n",
    "batch_size = 256\n",
    "display_step = 10\n",
    "examples_to_show = 10\n",
    "\n",
    "# Network Parameters\n",
    "n_hidden_1 = 256 # 1st layer num features\n",
    "n_hidden_2 = 256 # 2nd layer num features\n",
    "n_hidden_3 = 2048\n",
    "encoded_dim = 128\n",
    "n_input = 784 # MNIST data input (img shape: 28*28)\n",
    "\n",
    "# tf Graph input (only pictures)\n",
    "X = tf.placeholder(\"float\", [None, n_input])\n",
    "\n",
    "weights = {\n",
    "    'encoder_h1': tf.Variable(tf.random_normal([n_input, n_hidden_1])),\n",
    "    'encoder_h2': tf.Variable(tf.random_normal([n_hidden_1, n_hidden_2])),\n",
    "    'encoder_h3': tf.Variable(tf.random_normal([n_hidden_2, encoded_dim])),\n",
    "    'decoder_h1': tf.Variable(tf.random_normal([encoded_dim, n_hidden_2])),\n",
    "    'decoder_h2': tf.Variable(tf.random_normal([n_hidden_2, n_hidden_1])),\n",
    "    'decoder_h3': tf.Variable(tf.random_normal([n_hidden_1, n_input])),\n",
    "}\n",
    "biases = {\n",
    "    'encoder_b1': tf.Variable(tf.random_normal([n_hidden_1])),\n",
    "    'encoder_b2': tf.Variable(tf.random_normal([n_hidden_2])),\n",
    "    'encoder_b3': tf.Variable(tf.random_normal([encoded_dim])),\n",
    "    'decoder_b1': tf.Variable(tf.random_normal([n_hidden_2])),\n",
    "    'decoder_b2': tf.Variable(tf.random_normal([n_hidden_1])),\n",
    "    'decoder_b3': tf.Variable(tf.random_normal([n_input])),\n",
    "}\n",
    "\n",
    "# Encoder\n",
    "def encoder(x):\n",
    "    # layer_1 encoding\n",
    "    layer_1 = tf.nn.sigmoid(tf.add(tf.matmul(x, weights[\"encoder_h1\"]), \n",
    "                               biases[\"encoder_b1\"]))\n",
    "    layer_2 = tf.nn.sigmoid(tf.add(tf.matmul(layer_1, weights[\"encoder_h2\"]),\n",
    "                                biases[\"encoder_b2\"]))\n",
    "    layer_3 = tf.nn.sigmoid(tf.add(tf.matmul(layer_2, weights[\"encoder_h3\"]),\n",
    "                                biases[\"encoder_b3\"]))\n",
    "#     layer_4 = tf.nn.sigmoid(tf.add(tf.matmul(layer_3, weights[\"encoder_h4\"]),\n",
    "#                                 biases[\"encoder_b4\"]))\n",
    "    return layer_3\n",
    "\n",
    "# Decoder\n",
    "def decoder(x):\n",
    "    # layer_1\n",
    "    layer_1 = tf.nn.sigmoid(tf.add(tf.matmul(x, weights[\"decoder_h1\"]),\n",
    "                               biases[\"decoder_b1\"]))\n",
    "    layer_2 = tf.nn.sigmoid(tf.add(tf.matmul(layer_1, weights[\"decoder_h2\"]),\n",
    "                               biases[\"decoder_b2\"]))\n",
    "    layer_3 = tf.nn.sigmoid(tf.add(tf.matmul(layer_2, weights[\"decoder_h3\"]),\n",
    "                               biases[\"decoder_b3\"]))\n",
    "#     layer_4 = tf.nn.sigmoid(tf.add(tf.matmul(layer_3, weights[\"decoder_h4\"]),\n",
    "#                                biases[\"decoder_b4\"]))\n",
    "    return layer_3\n",
    "\n",
    "for d in [\"/gpu:0\", \"/gpu:1\", '/gpu:2', '/gpu:3']:\n",
    "    with tf.device(d):\n",
    "        encoder_op = encoder(X)\n",
    "        decoder_op = decoder(encoder_op)\n",
    "\n",
    "# Prediction\n",
    "y_pred = decoder_op\n",
    "# Groundtruths\n",
    "y_true = X\n",
    "\n",
    "# Loss functions\n",
    "cost = tf.reduce_mean(tf.pow(y_true - y_pred, 2))\n",
    "optimizer = tf.train.RMSPropOptimizer(learning_rate).minimize(cost)\n",
    "\n",
    "# Initializing the variables\n",
    "init = tf.initialize_all_variables()\n",
    "\n",
    "sess =  tf.Session()\n",
    "sess.run(init)\n",
    "total_batch = int(mnist.train.num_examples/batch_size)\n",
    "# Training\n",
    "for epoch in range(training_epochs):\n",
    "    # Loop over all batches\n",
    "    for i in range(total_batch):\n",
    "        batch_xs, batch_ys = mnist.train.next_batch(batch_size)\n",
    "        # Run optimization\n",
    "        _, c = sess.run([optimizer, cost], feed_dict={X: batch_xs})\n",
    "    # Display logs per epoch step\n",
    "    if epoch % display_step == 0:\n",
    "        print(\"Epoch:\", \"%04d\" % (epoch+1), \"cost:\", \"{:.9f}\".format(c))\n",
    "\n",
    "print(\"Optimization Finished!\")"
   ]
  },
  {
   "cell_type": "code",
   "execution_count": null,
   "metadata": {
    "collapsed": false
   },
   "outputs": [],
   "source": [
    "# Applying encode and decode over test set\n",
    "encode_decode = sess.run(\n",
    "            y_pred, feed_dict={X: mnist.test.images[:examples_to_show]})\n",
    "# Compare original images with their reconstructions\n",
    "f, a = plt.subplots(2, 10, figsize=(10, 2))\n",
    "for i in range(examples_to_show):\n",
    "    a[0][i].get_xaxis().set_visible(False)\n",
    "    a[0][i].get_yaxis().set_visible(False)\n",
    "    a[0][i].imshow(np.reshape(mnist.test.images[i], (28, 28)))\n",
    "    a[1][i].get_xaxis().set_visible(False)\n",
    "    a[1][i].get_yaxis().set_visible(False)\n",
    "    a[1][i].imshow(np.reshape(encode_decode[i], (28, 28)))\n",
    "f.show()"
   ]
  },
  {
   "cell_type": "code",
   "execution_count": null,
   "metadata": {
    "collapsed": true
   },
   "outputs": [],
   "source": [
    "encoded = sess.run(encoder_op, feed_dict={X: mnist.test.images})"
   ]
  },
  {
   "cell_type": "code",
   "execution_count": null,
   "metadata": {
    "collapsed": false
   },
   "outputs": [],
   "source": [
    "encoded.shape"
   ]
  },
  {
   "cell_type": "code",
   "execution_count": null,
   "metadata": {
    "collapsed": true
   },
   "outputs": [],
   "source": [
    "# Get the error of clustering\n",
    "\n",
    "from scipy.spatial.distance import cdist\n",
    "\n",
    "class TMM(object):\n",
    "    def __init__(self, n_components=1, alpha=1):\n",
    "        self.n_components = n_components\n",
    "        self.tol = 1e-5\n",
    "        self.alpha = float(alpha)\n",
    "\n",
    "    def fit(self, X):\n",
    "        from sklearn.cluster import KMeans\n",
    "        kmeans = KMeans(self.n_components, n_init=20)\n",
    "        kmeans.fit(X)\n",
    "        self.cluster_centers_ = kmeans.cluster_centers_\n",
    "        self.covars_ = np.ones(self.cluster_centers_.shape)\n",
    "\n",
    "    def transform(self, X):\n",
    "        p = 1.0\n",
    "        dist = cdist(X, self.cluster_centers_)\n",
    "        r = 1.0/(1.0+dist**2/self.alpha)**((self.alpha+p)/2.0)\n",
    "        r = (r.T/r.sum(axis=1)).T\n",
    "        return r\n",
    "\n",
    "    def predict(self, X):\n",
    "        return self.transform(X).argmax(axis=1)\n",
    "\n",
    "tmm = TMM(n_components=10)\n",
    "\n",
    "def calc_dist_error(X):\n",
    "    tmm = TMM(n_components=10)\n",
    "    l = []\n",
    "    tmm.fit(X)\n",
    "    q = tmm.transform(X)\n",
    "    q = (q.T/q.sum(axis=1)).T\n",
    "    p = (q**2)\n",
    "    p = (p.T/p.sum(axis=1)).T\n",
    "    grad = 2.0/(1.0+cdist(X, tmm.cluster_centers_, \n",
    "        'sqeuclidean'))*(p-q)*cdist(X, tmm.cluster_centers_, 'cityblock')\n",
    "    return p, q, grad    "
   ]
  },
  {
   "cell_type": "code",
   "execution_count": null,
   "metadata": {
    "collapsed": true
   },
   "outputs": [],
   "source": [
    "p, q, grad = calc_dist_error(encoded)"
   ]
  },
  {
   "cell_type": "code",
   "execution_count": null,
   "metadata": {
    "collapsed": false
   },
   "outputs": [],
   "source": [
    "print(grad.shape)\n",
    "print(grad[:5])"
   ]
  },
  {
   "cell_type": "code",
   "execution_count": null,
   "metadata": {
    "collapsed": true
   },
   "outputs": [],
   "source": []
  }
 ],
 "metadata": {
  "kernelspec": {
   "display_name": "Python 2",
   "language": "python",
   "name": "python2"
  },
  "language_info": {
   "codemirror_mode": {
    "name": "ipython",
    "version": 2
   },
   "file_extension": ".py",
   "mimetype": "text/x-python",
   "name": "python",
   "nbconvert_exporter": "python",
   "pygments_lexer": "ipython2",
   "version": "2.7.6"
  }
 },
 "nbformat": 4,
 "nbformat_minor": 2
}
