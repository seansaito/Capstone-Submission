{
 "cells": [
  {
   "cell_type": "code",
   "execution_count": null,
   "metadata": {
    "collapsed": false
   },
   "outputs": [],
   "source": [
    "import caffe\n",
    "import lmdb\n",
    "from PIL import Image\n",
    "import cv2\n",
    "import numpy as np\n",
    "%matplotlib inline\n",
    "import matplotlib.pyplot as plt\n",
    "import os\n",
    "from sklearn.cross_validation import train_test_split"
   ]
  },
  {
   "cell_type": "code",
   "execution_count": null,
   "metadata": {
    "collapsed": true
   },
   "outputs": [],
   "source": [
    "# Segmented video location\n",
    "\n",
    "set_1_folder = \"/home/seansaito/dev/datasets/ut-interactions/segmented_set1/\"\n",
    "set_2_folder = \"/home/seansaito/dev/datasets/ut-interactions/segmented_set2/\""
   ]
  },
  {
   "cell_type": "code",
   "execution_count": null,
   "metadata": {
    "collapsed": false
   },
   "outputs": [],
   "source": [
    "set_1_files = os.listdir(set_1_folder)\n",
    "set_2_files = os.listdir(set_2_folder)\n",
    "set_1_train, set_1_test, _, _ = train_test_split(set_1_files, set_1_files, test_size=0.1)\n",
    "set_2_train, set_2_test, _, _ = train_test_split(set_2_files, set_2_files, test_size=0.1)"
   ]
  },
  {
   "cell_type": "code",
   "execution_count": null,
   "metadata": {
    "collapsed": false
   },
   "outputs": [],
   "source": [
    "set_1_test"
   ]
  },
  {
   "cell_type": "code",
   "execution_count": null,
   "metadata": {
    "collapsed": true
   },
   "outputs": [],
   "source": [
    "# For storing the ground truth\n",
    "frames_store = []\n",
    "labels_store = []"
   ]
  },
  {
   "cell_type": "code",
   "execution_count": null,
   "metadata": {
    "collapsed": true
   },
   "outputs": [],
   "source": [
    "def get_frames_and_labels(f):\n",
    "    cap = cv2.VideoCapture(f)\n",
    "    frames = []\n",
    "    label = int(f.split(\"_\")[-1][0])\n",
    "    while True:\n",
    "        ret, frame = cap.read()\n",
    "        if not ret:\n",
    "            break\n",
    "        frames.append(frame)\n",
    "    \n",
    "    labels = [label for i in range(len(frames))]\n",
    "    cap.release()\n",
    "    cv2.destroyAllWindows()\n",
    "    return frames, labels"
   ]
  },
  {
   "cell_type": "code",
   "execution_count": null,
   "metadata": {
    "collapsed": false
   },
   "outputs": [],
   "source": [
    "set_1_train_frames = []\n",
    "set_1_train_labels = []\n",
    "for f in set_1_train:\n",
    "    frames, labels = get_frames_and_labels(set_1_folder + f)\n",
    "    set_1_train_frames = set_1_train_frames + frames\n",
    "    set_1_train_labels = set_1_train_labels + labels"
   ]
  },
  {
   "cell_type": "code",
   "execution_count": null,
   "metadata": {
    "collapsed": false
   },
   "outputs": [],
   "source": [
    "print len(set_1_train_frames)\n",
    "print len(set_1_train_labels)"
   ]
  },
  {
   "cell_type": "code",
   "execution_count": null,
   "metadata": {
    "collapsed": false
   },
   "outputs": [],
   "source": [
    "# Frames are not the same shape\n",
    "set_1_train_frames[3000].shape"
   ]
  },
  {
   "cell_type": "code",
   "execution_count": null,
   "metadata": {
    "collapsed": true
   },
   "outputs": [],
   "source": [
    "size = (350, 250)"
   ]
  },
  {
   "cell_type": "code",
   "execution_count": null,
   "metadata": {
    "collapsed": false
   },
   "outputs": [],
   "source": [
    "# Resize images to uniform shape\n",
    "updated = [np.array(Image.fromarray(img).resize((350, 250), Image.ANTIALIAS)) for img in set_1_train_frames]\n",
    "set_1_train_frames = updated"
   ]
  },
  {
   "cell_type": "code",
   "execution_count": null,
   "metadata": {
    "collapsed": false
   },
   "outputs": [],
   "source": [
    "np.array(Image.fromarray(set_1_train_frames[2000]).resize(size, Image.ANTIALIAS)).shape"
   ]
  },
  {
   "cell_type": "code",
   "execution_count": null,
   "metadata": {
    "collapsed": false
   },
   "outputs": [],
   "source": [
    "plt.imshow(cv2.cvtColor(set_1_train_frames[200], cv2.COLOR_BGR2RGB))\n",
    "plt.show()"
   ]
  },
  {
   "cell_type": "code",
   "execution_count": null,
   "metadata": {
    "collapsed": true
   },
   "outputs": [],
   "source": [
    "set_1_test_frames = []\n",
    "set_1_test_labels = []\n",
    "for f in set_1_test:\n",
    "    frames, labels = get_frames_and_labels(set_1_folder + f)\n",
    "    set_1_test_frames = set_1_test_frames + frames\n",
    "    set_1_test_labels = set_1_test_labels + labels"
   ]
  },
  {
   "cell_type": "code",
   "execution_count": null,
   "metadata": {
    "collapsed": true
   },
   "outputs": [],
   "source": [
    "updated = [np.array(Image.fromarray(img).resize(size, Image.ANTIALIAS)) for img in set_1_test_frames]\n",
    "set_1_test_frames = updated"
   ]
  },
  {
   "cell_type": "code",
   "execution_count": null,
   "metadata": {
    "collapsed": false
   },
   "outputs": [],
   "source": [
    "set_2_train_frames = []\n",
    "set_2_train_labels = []\n",
    "for f in set_2_train:\n",
    "    frames, labels = get_frames_and_labels(set_2_folder + f)\n",
    "    set_2_train_frames = set_2_train_frames + frames\n",
    "    set_2_train_labels = set_2_train_labels + labels"
   ]
  },
  {
   "cell_type": "code",
   "execution_count": null,
   "metadata": {
    "collapsed": true
   },
   "outputs": [],
   "source": [
    "updated = [np.array(Image.fromarray(img).resize(size, Image.ANTIALIAS)) for img in set_2_train_frames]\n",
    "set_2_train_frames = updated"
   ]
  },
  {
   "cell_type": "code",
   "execution_count": null,
   "metadata": {
    "collapsed": true
   },
   "outputs": [],
   "source": [
    "set_2_test_frames = []\n",
    "set_2_test_labels = []\n",
    "for f in set_2_test:\n",
    "    frames, labels = get_frames_and_labels(set_2_folder + f)\n",
    "    set_2_test_frames = set_2_test_frames + frames\n",
    "    set_2_test_labels = set_2_test_labels + labels"
   ]
  },
  {
   "cell_type": "code",
   "execution_count": null,
   "metadata": {
    "collapsed": true
   },
   "outputs": [],
   "source": [
    "updated = [np.array(Image.fromarray(img).resize(size, Image.ANTIALIAS)) for img in set_2_test_frames]\n",
    "set_2_test_frames = updated"
   ]
  },
  {
   "cell_type": "code",
   "execution_count": null,
   "metadata": {
    "collapsed": false
   },
   "outputs": [],
   "source": [
    "np.array(set_1_train_frames).nbytes"
   ]
  },
  {
   "cell_type": "code",
   "execution_count": null,
   "metadata": {
    "collapsed": true
   },
   "outputs": [],
   "source": [
    "# Now write to the lmdb\n",
    "\n",
    "def write_to_lmdb(lmdb_name, frames, labels=None, write_label=True):\n",
    "    map_size = np.array(frames).nbytes * 10\n",
    "    env = lmdb.open(lmdb_name, map_size=map_size)\n",
    "    \n",
    "    with env.begin(write=True) as txn:\n",
    "        for i in range(len(frames)):\n",
    "            datum = caffe.proto.caffe_pb2.Datum()\n",
    "            datum.channels = frames[i].shape[2]\n",
    "            datum.width = frames[i].shape[1]\n",
    "            datum.height = frames[i].shape[0]\n",
    "            datum.data = np.array(frames[i]).tobytes()\n",
    "            if write_label:\n",
    "                datum.label = int(labels[i])\n",
    "            str_id = \"{:08}\".format(i)\n",
    "            \n",
    "            txn.put(str_id, datum.SerializeToString())"
   ]
  },
  {
   "cell_type": "code",
   "execution_count": null,
   "metadata": {
    "collapsed": true
   },
   "outputs": [],
   "source": [
    "write_to_lmdb(\"set_1_train_lmdb\", set_1_train_frames, set_1_train_labels)"
   ]
  },
  {
   "cell_type": "code",
   "execution_count": null,
   "metadata": {
    "collapsed": true
   },
   "outputs": [],
   "source": [
    "write_to_lmdb(\"set_1_test_lmdb\", set_1_test_frames, set_1_test_labels)"
   ]
  },
  {
   "cell_type": "code",
   "execution_count": null,
   "metadata": {
    "collapsed": true
   },
   "outputs": [],
   "source": [
    "# Created segmented lmdb\n",
    "from PIL import Image\n",
    "import caffe\n",
    "\n",
    "# load net\n",
    "model = \"fcn8_deploy.prototxt\"\n",
    "weights = \"fcn8s-heavy-pascal.caffemodel\"\n",
    "\n",
    "caffe.set_mode_cpu()\n",
    "net = caffe.Net(str(model), str(weights), caffe.TEST)"
   ]
  },
  {
   "cell_type": "code",
   "execution_count": null,
   "metadata": {
    "collapsed": true
   },
   "outputs": [],
   "source": [
    "def segmented_write_to_lmdb(lmdb_name, frames, labels=None, write_label=True):\n",
    "    map_size = np.array(frames).nbytes * 1000000\n",
    "    env = lmdb.open(lmdb_name, map_size=map_size)\n",
    "    \n",
    "    with env.begin(write=True) as txn:\n",
    "        for i in range(len(frames)):\n",
    "            in_ = np.array(frames[i], dtype=np.float32)\n",
    "            m = np.array((104.00698793, 116.66876762, 122.67891434))\n",
    "            in_ = in_[:, :, ::-1]\n",
    "            in_ -= m\n",
    "            in_ = in_.transpose((2, 0, 1))\n",
    "            net.blobs[\"data\"].reshape(1, *in_.shape)\n",
    "            net.blobs[\"data\"].data[...] = in_\n",
    "            net.forward()\n",
    "            out = net.blobs[\"score\"].data[0].argmax(axis=0)\n",
    "#             out = out[:, :, np.newaxis]\n",
    "            out = out[:, :, np.newaxis]\n",
    "            out = np.concatenate((out, out, out), axis=2)\n",
    "            datum = caffe.proto.caffe_pb2.Datum()\n",
    "            datum.channels = out.shape[2]\n",
    "            datum.width = out.shape[1]\n",
    "            datum.height = out.shape[0]\n",
    "            datum.data = np.array(out).tobytes()\n",
    "            if write_label:\n",
    "                datum.label = int(labels[i])\n",
    "            str_id = \"{:08}\".format(i)\n",
    "            \n",
    "            txn.put(str_id, datum.SerializeToString())"
   ]
  },
  {
   "cell_type": "code",
   "execution_count": null,
   "metadata": {
    "collapsed": true
   },
   "outputs": [],
   "source": [
    "segmented_write_to_lmdb(\"segmented_set_1_train_alt\", set_1_train_frames, set_1_train_labels)"
   ]
  },
  {
   "cell_type": "code",
   "execution_count": null,
   "metadata": {
    "collapsed": false
   },
   "outputs": [],
   "source": [
    "np.array(set_1_test_labels).nbytes"
   ]
  },
  {
   "cell_type": "code",
   "execution_count": null,
   "metadata": {
    "collapsed": false
   },
   "outputs": [],
   "source": [
    "segmented_write_to_lmdb(\"segmented_set_1_test_alt\", set_1_test_frames, set_1_test_labels)"
   ]
  },
  {
   "cell_type": "code",
   "execution_count": null,
   "metadata": {
    "collapsed": false
   },
   "outputs": [],
   "source": [
    "for i in range(15):\n",
    "    if i == 0:\n",
    "        write_to_lmdb(\"set_1_train_lmdb\".format(i=i), set_1_train_frames[:-14], set_1_train_labels)\n",
    "    elif i == 14:\n",
    "        write_to_lmdb(\"set_1_train_offset{i}_lmdb\".format(i=i), set_1_train_frames[14:], \n",
    "                      write_label=False)        \n",
    "    else:\n",
    "        write_to_lmdb(\"set_1_train_offset{i}_lmdb\".format(i=i), set_1_train_frames[i:(-14)+i], \n",
    "                      write_label=False)        "
   ]
  },
  {
   "cell_type": "code",
   "execution_count": null,
   "metadata": {
    "collapsed": true
   },
   "outputs": [],
   "source": [
    "# write_to_lmdb(\"set_1_test_lmdb\", set_1_test_frames, set_1_test_labels)\n",
    "for i in range(15):\n",
    "    if i == 0:\n",
    "        write_to_lmdb(\"set_1_test_lmdb\".format(i=i), set_1_test_frames[:-14], set_1_test_labels)\n",
    "    elif i == 14:\n",
    "        write_to_lmdb(\"set_1_test_offset{i}_lmdb\".format(i=i), set_1_test_frames[14:], \n",
    "                      write_label=False)        \n",
    "    else:\n",
    "        write_to_lmdb(\"set_1_test_offset{i}_lmdb\".format(i=i), set_1_test_frames[i:(-14)+i], \n",
    "                      write_label=False)  "
   ]
  },
  {
   "cell_type": "code",
   "execution_count": null,
   "metadata": {
    "collapsed": true
   },
   "outputs": [],
   "source": [
    "write_to_lmdb(\"set_2_train_lmdb\", set_2_train_frames, set_2_train_labels)"
   ]
  },
  {
   "cell_type": "code",
   "execution_count": null,
   "metadata": {
    "collapsed": true
   },
   "outputs": [],
   "source": [
    "write_to_lmdb(\"set_2_test_lmdb\", set_2_test_frames, set_2_test_labels)"
   ]
  },
  {
   "cell_type": "code",
   "execution_count": null,
   "metadata": {
    "collapsed": true
   },
   "outputs": [],
   "source": []
  }
 ],
 "metadata": {
  "kernelspec": {
   "display_name": "Python 2",
   "language": "python",
   "name": "python2"
  },
  "language_info": {
   "codemirror_mode": {
    "name": "ipython",
    "version": 2
   },
   "file_extension": ".py",
   "mimetype": "text/x-python",
   "name": "python",
   "nbconvert_exporter": "python",
   "pygments_lexer": "ipython2",
   "version": "2.7.6"
  }
 },
 "nbformat": 4,
 "nbformat_minor": 1
}
