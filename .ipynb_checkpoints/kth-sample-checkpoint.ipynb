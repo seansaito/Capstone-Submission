{
 "cells": [
  {
   "cell_type": "code",
   "execution_count": null,
   "metadata": {
    "collapsed": false
   },
   "outputs": [],
   "source": [
    "from PIL import Image\n",
    "import cv2\n",
    "import numpy as np\n",
    "%matplotlib inline\n",
    "import matplotlib.pyplot as plt\n",
    "import os, time\n",
    "import tensorflow as tf\n",
    "from sklearn.cross_validation import train_test_split\n",
    "import math\n",
    "import datetime\n",
    "\n",
    "height, width = 120,120\n",
    "resize = (height, width)\n",
    "\n",
    "def capture_and_release(fname, resize=resize, num_frames=None, show=False):\n",
    "    cap = cv2.VideoCapture(fname)\n",
    "    rets, frames = [], []\n",
    "    i = 0\n",
    "    while True:\n",
    "        ret, frame = cap.read()\n",
    "        if cv2.waitKey(1) & 0xFF == ord(\"q\"):\n",
    "            break\n",
    "        \n",
    "        if not ret:\n",
    "            break\n",
    "        rets.append(ret)\n",
    "        frame = np.array(Image.fromarray(frame.astype(np.uint8)).resize(resize, \n",
    "                                    Image.ANTIALIAS)) / 255.0\n",
    "        frames.append(frame)\n",
    "        i += 1\n",
    "        if num_frames is not None and i == num_frames:\n",
    "            break\n",
    "\n",
    "    if show:\n",
    "        f1 = frames[1]\n",
    "        cv_rgb = cv2.cvtColor(f1, cv2.COLOR_BGR2RGB)\n",
    "        print \"Shape: \", cv_rgb.shape\n",
    "        print \"Number of frames: \", len(frames)\n",
    "        plt.imshow(cv_rgb)\n",
    "        plt.show()\n",
    "\n",
    "    cap.release()\n",
    "    cv2.destroyAllWindows()\n",
    "    return frames\n",
    "\n",
    "label_hash = {\n",
    "    0: \"boxing\", 1: \"handclapping\", 2: \"handwaving\", 3: \"jogging\", 4: \"running\",\n",
    "    5: \"walking\"\n",
    "}\n",
    "\n",
    "num_labels = 6\n",
    "\n",
    "video_files = [os.listdir(label_hash[i]) for i in range(num_labels)]"
   ]
  },
  {
   "cell_type": "code",
   "execution_count": null,
   "metadata": {
    "collapsed": false
   },
   "outputs": [],
   "source": [
    "all_frames = [[capture_and_release(label_hash[i] + \"/\" + f, resize=resize, num_frames=50)\n",
    "                         for f in video_files[i]] for i in range(num_labels)]\n",
    "\n",
    "for i in range(num_labels):\n",
    "    X = []\n",
    "    for frames in all_frames[i]:\n",
    "        X = X + frames\n",
    "    all_frames[i] = X\n",
    "labels = [[i for frame in all_frames[i]] for i in range(num_labels)]"
   ]
  },
  {
   "cell_type": "code",
   "execution_count": null,
   "metadata": {
    "collapsed": false
   },
   "outputs": [],
   "source": [
    "X = []\n",
    "for frames in all_frames:\n",
    "    X = X + frames\n",
    "# del all_frames\n",
    "y = []\n",
    "for label in labels:\n",
    "    y = y + label\n",
    "# del labels\n",
    "\n",
    "X = np.array(X)\n",
    "y = np.array(y)\n",
    "print X.shape\n",
    "print y.shape"
   ]
  },
  {
   "cell_type": "code",
   "execution_count": null,
   "metadata": {
    "collapsed": false
   },
   "outputs": [],
   "source": [
    "y[:10]"
   ]
  },
  {
   "cell_type": "code",
   "execution_count": null,
   "metadata": {
    "collapsed": false
   },
   "outputs": [],
   "source": [
    "n_examples = 10\n",
    "\n",
    "test_idxes = random.sample(range(X.shape[0]), n_examples)\n",
    "\n",
    "fig, axs = plt.subplots(2, n_examples / 2, figsize=(25, 10))\n",
    "for example_i in range(n_examples):\n",
    "    axs[example_i / 5][example_i % 5].imshow(X[test_idxes[example_i]])\n",
    "    axs[example_i / 5][example_i % 5].axis(\"off\")\n",
    "fig.show()\n",
    "plt.draw()"
   ]
  },
  {
   "cell_type": "code",
   "execution_count": null,
   "metadata": {
    "collapsed": true
   },
   "outputs": [],
   "source": []
  }
 ],
 "metadata": {
  "kernelspec": {
   "display_name": "Python 2",
   "language": "python",
   "name": "python2"
  },
  "language_info": {
   "codemirror_mode": {
    "name": "ipython",
    "version": 2
   },
   "file_extension": ".py",
   "mimetype": "text/x-python",
   "name": "python",
   "nbconvert_exporter": "python",
   "pygments_lexer": "ipython2",
   "version": "2.7.6"
  }
 },
 "nbformat": 4,
 "nbformat_minor": 2
}
