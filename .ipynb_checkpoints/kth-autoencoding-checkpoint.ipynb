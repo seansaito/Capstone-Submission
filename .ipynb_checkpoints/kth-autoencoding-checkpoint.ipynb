{
 "cells": [
  {
   "cell_type": "code",
   "execution_count": null,
   "metadata": {
    "collapsed": false
   },
   "outputs": [],
   "source": [
    "from PIL import Image\n",
    "import cv2\n",
    "import numpy as np\n",
    "%matplotlib inline\n",
    "import matplotlib.pyplot as plt\n",
    "import os, time\n",
    "import tensorflow as tf\n",
    "from sklearn.cross_validation import train_test_split\n",
    "import math\n",
    "import datetime\n",
    "\n",
    "height, width = 120,120\n",
    "resize = (height, width)\n",
    "\n",
    "def capture_and_release(fname, resize=resize, num_frames=None, show=False):\n",
    "    cap = cv2.VideoCapture(fname)\n",
    "    rets, frames = [], []\n",
    "    i = 0\n",
    "    while True:\n",
    "        ret, frame = cap.read()\n",
    "        if cv2.waitKey(1) & 0xFF == ord(\"q\"):\n",
    "            break\n",
    "        \n",
    "        if not ret:\n",
    "            break\n",
    "        rets.append(ret)\n",
    "        frame = np.array(Image.fromarray(frame.astype(np.uint8)).resize(resize, \n",
    "                                    Image.ANTIALIAS)) / 255.0\n",
    "        frames.append(frame)\n",
    "        i += 1\n",
    "        if num_frames is not None and i == num_frames:\n",
    "            break\n",
    "\n",
    "    if show:\n",
    "        f1 = frames[1]\n",
    "        cv_rgb = cv2.cvtColor(f1, cv2.COLOR_BGR2RGB)\n",
    "        print \"Shape: \", cv_rgb.shape\n",
    "        print \"Number of frames: \", len(frames)\n",
    "        plt.imshow(cv_rgb)\n",
    "        plt.show()\n",
    "\n",
    "    cap.release()\n",
    "    cv2.destroyAllWindows()\n",
    "    return frames\n",
    "\n",
    "label_hash = {\n",
    "    0: \"boxing\", 1: \"handclapping\", 2: \"handwaving\", 3: \"jogging\", 4: \"running\",\n",
    "    5: \"walking\"\n",
    "}\n",
    "\n",
    "num_labels = 6\n",
    "\n",
    "video_files = [os.listdir(label_hash[i]) for i in range(num_labels)]"
   ]
  },
  {
   "cell_type": "code",
   "execution_count": null,
   "metadata": {
    "collapsed": false
   },
   "outputs": [],
   "source": [
    "all_frames = [[capture_and_release(label_hash[i] + \"/\" + f, resize=resize, num_frames=50)\n",
    "                         for f in video_files[i]] for i in range(num_labels)]\n",
    "\n",
    "for i in range(num_labels):\n",
    "    X = []\n",
    "    for frames in all_frames[i]:\n",
    "        X = X + frames\n",
    "    all_frames[i] = X\n",
    "labels = [[i for frame in all_frames[i]] for i in range(num_labels)]"
   ]
  },
  {
   "cell_type": "code",
   "execution_count": null,
   "metadata": {
    "collapsed": false
   },
   "outputs": [],
   "source": [
    "print len(all_frames)\n",
    "print len(labels)\n",
    "print len(all_frames[0])\n",
    "print len(labels[0])"
   ]
  },
  {
   "cell_type": "code",
   "execution_count": null,
   "metadata": {
    "collapsed": false
   },
   "outputs": [],
   "source": [
    "print all_frames[0][100].shape\n",
    "plt.imshow(all_frames[0][100])"
   ]
  },
  {
   "cell_type": "code",
   "execution_count": null,
   "metadata": {
    "collapsed": false
   },
   "outputs": [],
   "source": [
    "X = []\n",
    "for frames in all_frames:\n",
    "    X = X + frames\n",
    "# del all_frames\n",
    "y = []\n",
    "for label in labels:\n",
    "    y = y + label\n",
    "# del labels\n",
    "\n",
    "X = np.array(X)\n",
    "y = np.array(y)\n",
    "print X.shape\n",
    "print y.shape"
   ]
  },
  {
   "cell_type": "code",
   "execution_count": null,
   "metadata": {
    "collapsed": true
   },
   "outputs": [],
   "source": [
    "X_train, X_test, y_train, y_test = train_test_split(X, y, test_size=0.5)"
   ]
  },
  {
   "cell_type": "code",
   "execution_count": null,
   "metadata": {
    "collapsed": true
   },
   "outputs": [],
   "source": [
    "def autoencoder(input_shape=[None, height, width, 3],\n",
    "                n_filters=[3, 30, 50, 50],\n",
    "                filter_sizes=[5, 10, 10, 10],\n",
    "                corruption=False):\n",
    "    # input to the network\n",
    "    x = tf.placeholder(tf.float32, input_shape, name='x')\n",
    "\n",
    "    # ensure 2-d is converted to square tensor.\n",
    "    if len(x.get_shape()) == 2:\n",
    "        x_dim = np.sqrt(x.get_shape().as_list()[1])\n",
    "        if x_dim != int(x_dim):\n",
    "            raise ValueError('Unsupported input dimensions')\n",
    "        x_dim = int(x_dim)\n",
    "        x_tensor = tf.reshape(\n",
    "            x, [-1, x_dim, x_dim, n_filters[0]])\n",
    "    elif len(x.get_shape()) == 4:\n",
    "        x_tensor = x\n",
    "    else:\n",
    "        raise ValueError('Unsupported input dimensions')\n",
    "    current_input = x_tensor\n",
    "\n",
    "    # Build the encoder\n",
    "    encoder_weights = []\n",
    "    encoder_ops = []\n",
    "    shapes = []\n",
    "    for layer_i, n_output in enumerate(n_filters[1:]):\n",
    "        n_input = current_input.get_shape().as_list()[3]\n",
    "        shapes.append(current_input.get_shape().as_list())\n",
    "        W = tf.Variable(\n",
    "            tf.random_uniform([\n",
    "                filter_sizes[layer_i],\n",
    "                filter_sizes[layer_i],\n",
    "                n_input, n_output],\n",
    "                -1.0 / math.sqrt(n_input),\n",
    "                1.0 / math.sqrt(n_input)))\n",
    "        b = tf.Variable(tf.zeros([n_output]))\n",
    "        encoder_weights.append(W)\n",
    "        output = tf.nn.sigmoid(\n",
    "#         output = tf.nn.relu6(\n",
    "            tf.add(tf.nn.conv2d(\n",
    "                current_input, W, strides=[1, 1, 1, 1], padding='SAME'), b))\n",
    "        encoder_ops.append(output)\n",
    "        current_input = output\n",
    "\n",
    "    # store the latent representation\n",
    "    z = current_input\n",
    "    encoder_weights.reverse()\n",
    "    shapes.reverse()\n",
    "\n",
    "    # Build the decoder using the same weights\n",
    "    for layer_i, shape in enumerate(shapes):\n",
    "        W = encoder_weights[layer_i]\n",
    "        b = tf.Variable(tf.zeros([W.get_shape().as_list()[2]]))\n",
    "        output = tf.nn.sigmoid(\n",
    "#         output = tf.nn.relu6(\n",
    "            tf.add(tf.nn.conv2d_transpose(\n",
    "                current_input, W,\n",
    "                tf.pack([tf.shape(x)[0], shape[1], shape[2], shape[3]]),\n",
    "                strides=[1, 1, 1, 1], padding='SAME'), b))\n",
    "        current_input = output\n",
    "        \n",
    "    decoder = current_input\n",
    "\n",
    "    # now have the reconstruction through the network\n",
    "    y = current_input\n",
    "    # cost function measures pixel-wise difference\n",
    "    cost = tf.reduce_sum(tf.square(y - x_tensor))\n",
    "\n",
    "    return {'x': x, 'z': z, 'y': y, 'cost': cost, \n",
    "            \"encoder\": encoder_ops, \"decoder\": decoder}\n",
    "\n",
    "\n",
    "def test_kth(X_train, X_test, n_filters, filter_sizes):\n",
    "    import tensorflow as tf\n",
    "    ae = autoencoder(n_filters=n_filters, filter_sizes=filter_sizes)\n",
    "\n",
    "    learning_rate = 0.01\n",
    "    optimizer = tf.train.RMSPropOptimizer(learning_rate).minimize(ae['cost'])\n",
    "\n",
    "    # We create a session to use the graph\n",
    "    config = tf.ConfigProto()\n",
    "    config.gpu_options.allow_growth=True\n",
    "    sess = tf.Session(config=config)\n",
    "    sess.run(tf.initialize_all_variables())\n",
    "\n",
    "    # Fit all training data\n",
    "    batch_size = 100\n",
    "    n_epochs = 50\n",
    "    step_size = 10\n",
    "    for epoch_i in range(n_epochs):\n",
    "        for batch_i in range(X_train.shape[0] // batch_size):\n",
    "            batch_xs = X_train[batch_i * batch_size:(batch_i + 1) * batch_size]\n",
    "            train = batch_xs\n",
    "            sess.run(optimizer, feed_dict={ae['x']: train})\n",
    "        if epoch_i % step_size == 0:\n",
    "            print(str(datetime.datetime.now()), epoch_i, sess.run(ae['cost'], feed_dict={ae['x']: train}))\n",
    "\n",
    "    # Plot example reconstructions\n",
    "    n_examples = 10\n",
    "    test_xs = X_test[:n_examples]\n",
    "    test_xs_norm = test_xs\n",
    "    recon = sess.run(ae['y'], feed_dict={ae['x']: test_xs_norm})\n",
    "    print(recon.shape)\n",
    "    fig, axs = plt.subplots(2, n_examples, figsize=(10, 2))\n",
    "    for example_i in range(n_examples):\n",
    "        axs[0][example_i].imshow(\n",
    "            np.reshape(test_xs[example_i, :], (height, width, 3)))\n",
    "        axs[0][example_i].axis(\"off\")\n",
    "\n",
    "        axs[1][example_i].imshow(\n",
    "            np.reshape(\n",
    "                np.reshape(recon[example_i, ...], (height, width, 3)),\n",
    "                (height, width, 3)))\n",
    "        axs[1][example_i].axis(\"off\")\n",
    "    \n",
    "    fig.show()\n",
    "    plt.draw()\n",
    "    \n",
    "    ae[\"session\"] = sess\n",
    "    \n",
    "    return ae"
   ]
  },
  {
   "cell_type": "code",
   "execution_count": null,
   "metadata": {
    "collapsed": false
   },
   "outputs": [],
   "source": [
    "ae = test_kth(X_train, X_test,\n",
    "                n_filters=[3, 3, 3, 3],\n",
    "                filter_sizes=[3, 3, 3])"
   ]
  },
  {
   "cell_type": "code",
   "execution_count": null,
   "metadata": {
    "collapsed": false
   },
   "outputs": [],
   "source": [
    "combined = []\n",
    "sess = ae[\"session\"]\n",
    "batch_size = 100\n",
    "for batch_i in range(X_train.shape[0] // batch_size):\n",
    "    batch_xs = X_train[batch_i * batch_size:(batch_i + 1) * batch_size]\n",
    "    layers = [sess.run(ae[\"encoder\"][i], \n",
    "            feed_dict={ae['x']: batch_xs}) for i in range(len(ae[\"encoder\"]))]\n",
    "    ravels = (np.array([row.ravel() for row in layers[i]]) for i in range(len(ae[\"encoder\"])))\n",
    "    interm = np.hstack((ravels))\n",
    "    combined.append(interm)\n",
    "\n",
    "combined = np.vstack((combined))[:5000]\n",
    "print combined.shape\n",
    "del ae\n",
    "del X_train\n",
    "del sess"
   ]
  },
  {
   "cell_type": "markdown",
   "metadata": {},
   "source": [
    "# Confusion matrix"
   ]
  },
  {
   "cell_type": "code",
   "execution_count": null,
   "metadata": {
    "collapsed": false
   },
   "outputs": [],
   "source": [
    "y = y_train[:combined.shape[0]]\n",
    "\n",
    "from sklearn.neighbors import KNeighborsClassifier\n",
    "knn = KNeighborsClassifier(n_neighbors=3)\n",
    "knn.fit(combined, y)\n",
    "print str(datetime.datetime.now())"
   ]
  },
  {
   "cell_type": "code",
   "execution_count": null,
   "metadata": {
    "collapsed": false
   },
   "outputs": [],
   "source": [
    "print knn.score(combined, y)\n",
    "print str(datetime.datetime.now())"
   ]
  },
  {
   "cell_type": "code",
   "execution_count": null,
   "metadata": {
    "collapsed": false
   },
   "outputs": [],
   "source": [
    "y_pred = knn.predict(combined)\n",
    "print str(datetime.datetime.now())"
   ]
  },
  {
   "cell_type": "code",
   "execution_count": null,
   "metadata": {
    "collapsed": false
   },
   "outputs": [],
   "source": [
    "from sklearn.metrics import confusion_matrix\n",
    "import itertools\n",
    "import numpy as np\n",
    "\n",
    "plt.figure(figsize=(30, 30))\n",
    "\n",
    "label_hash = {\n",
    "    0: \"boxing\", 1: \"handclapping\", 2: \"handwaving\", 3: \"jogging\", 4: \"running\",\n",
    "    5: \"walking\"\n",
    "}\n",
    "class_names = [val for key,val in label_hash.items()]\n",
    "\n",
    "def plot_confusion_matrix(cm, classes,\n",
    "                          normalize=False,\n",
    "                          title='Confusion matrix',\n",
    "                          cmap=plt.cm.Blues):\n",
    "    \"\"\"\n",
    "    This function prints and plots the confusion matrix.\n",
    "    Normalization can be applied by setting `normalize=True`.\n",
    "    \"\"\"\n",
    "    cm = cm.astype('float') / cm.sum(axis=1)[:, np.newaxis]\n",
    "    plt.imshow(cm, interpolation='nearest', cmap=cmap)\n",
    "    plt.title(title)\n",
    "    tick_marks = np.arange(len(classes))\n",
    "    plt.xticks(tick_marks, classes, rotation=45)\n",
    "    plt.yticks(tick_marks, classes)\n",
    "\n",
    "    if normalize:\n",
    "        cm = cm.astype('float') / cm.sum(axis=1)[:, np.newaxis]\n",
    "        print(\"Normalized confusion matrix\")\n",
    "    else:\n",
    "        print('Confusion matrix, without normalization')\n",
    "\n",
    "    print(cm)\n",
    "\n",
    "    thresh = cm.max() / 2.\n",
    "    for i, j in itertools.product(range(cm.shape[0]), range(cm.shape[1])):\n",
    "        plt.text(j, i, str(cm[i, j])[:4],\n",
    "                 horizontalalignment=\"center\",\n",
    "                 color=\"white\" if cm[i, j] > thresh else \"black\")\n",
    "\n",
    "    plt.tight_layout()\n",
    "    plt.ylabel('True label')\n",
    "    plt.xlabel('Predicted label')\n",
    "\n",
    "cnf_matrix = confusion_matrix(y_train[:combined.shape[0]][:1000], y_pred[:1000])\n",
    "np.set_printoptions(precision=2)\n",
    "\n",
    "# Plot normalized confusion matrix\n",
    "plt.figure()\n",
    "plot_confusion_matrix(cnf_matrix, classes=class_names, normalize=True,\n",
    "                      title='Normalized confusion matrix for KTH')\n",
    "\n",
    "plt.show()"
   ]
  },
  {
   "cell_type": "code",
   "execution_count": null,
   "metadata": {
    "collapsed": true
   },
   "outputs": [],
   "source": []
  },
  {
   "cell_type": "code",
   "execution_count": null,
   "metadata": {
    "collapsed": true
   },
   "outputs": [],
   "source": [
    "# Scale and visualize the embedding vectors\n",
    "def plot_embedding(X, y, title=None):\n",
    "    x_min, x_max = np.min(X, 0), np.max(X, 0)\n",
    "    X = (X - x_min) / (x_max - x_min)\n",
    "\n",
    "    plt.figure(figsize=(20, 10))\n",
    "    ax = plt.subplot(111)\n",
    "    for i in range(X.shape[0]):\n",
    "        plt.text(X[i, 0], X[i, 1], str(y[i]),\n",
    "                 color=plt.cm.Set1(y[i] / 10.),\n",
    "                 fontdict={'weight': 'bold', 'size': 12})\n",
    "\n",
    "    plt.xticks([]), plt.yticks([])\n",
    "    if title is not None:\n",
    "        plt.title(title)\n",
    "\n",
    "vectorized_imgs = combined\n",
    "\n",
    "from sklearn.manifold import TSNE\n",
    "\n",
    "tsne = TSNE(n_components=2, random_state=0)\n",
    "np.set_printoptions(suppress=True)\n",
    "X_tsne = tsne.fit_transform(vectorized_imgs)"
   ]
  },
  {
   "cell_type": "code",
   "execution_count": null,
   "metadata": {
    "collapsed": false
   },
   "outputs": [],
   "source": [
    "plot_embedding(X_tsne, y_train)"
   ]
  },
  {
   "cell_type": "code",
   "execution_count": null,
   "metadata": {
    "collapsed": false
   },
   "outputs": [],
   "source": [
    "from sklearn.neighbors import KNeighborsClassifier\n",
    "knn = KNeighborsClassifier(n_neighbors=3)\n",
    "# knn.fit(X_tsne, y_train[:3000])\n",
    "knn.fit(X_tsne, y_train[:X_tsne.shape[0]])"
   ]
  },
  {
   "cell_type": "code",
   "execution_count": null,
   "metadata": {
    "collapsed": false
   },
   "outputs": [],
   "source": [
    "# knn.score(X_tsne, y_train[:3000])\n",
    "knn.score(X_tsne, y_train[:X_tsne.shape[0]])"
   ]
  },
  {
   "cell_type": "code",
   "execution_count": null,
   "metadata": {
    "collapsed": false
   },
   "outputs": [],
   "source": [
    "from sklearn.neighbors import KNeighborsClassifier\n",
    "knn = KNeighborsClassifier(n_neighbors=3)\n",
    "# knn.fit(combined, y_train[:3000])\n",
    "knn.fit(combined, y_train[:combined.shape[0]])"
   ]
  },
  {
   "cell_type": "code",
   "execution_count": null,
   "metadata": {
    "collapsed": false
   },
   "outputs": [],
   "source": [
    "# knn.score(combined, y_train[:3000])\n",
    "knn.score(combined, y_train[:combined.shape[0]])"
   ]
  },
  {
   "cell_type": "markdown",
   "metadata": {
    "collapsed": true
   },
   "source": [
    "# Just k-nn"
   ]
  },
  {
   "cell_type": "code",
   "execution_count": null,
   "metadata": {
    "collapsed": true
   },
   "outputs": [],
   "source": [
    "X_train_ravelled = np.array([row.ravel() for row in X_train])\n",
    "X_train = X_train_ravelled"
   ]
  },
  {
   "cell_type": "code",
   "execution_count": null,
   "metadata": {
    "collapsed": false
   },
   "outputs": [],
   "source": [
    "from sklearn.neighbors import KNeighborsClassifier\n",
    "knn = KNeighborsClassifier(n_neighbors=3)\n",
    "knn.fit(X_train, y_train)"
   ]
  },
  {
   "cell_type": "code",
   "execution_count": null,
   "metadata": {
    "collapsed": false
   },
   "outputs": [],
   "source": [
    "knn.score(X_train, y_train)"
   ]
  },
  {
   "cell_type": "markdown",
   "metadata": {},
   "source": [
    "# Just k-means"
   ]
  },
  {
   "cell_type": "code",
   "execution_count": null,
   "metadata": {
    "collapsed": false
   },
   "outputs": [],
   "source": [
    "from sklearn.cluster import KMeans\n",
    "\n",
    "kmeans = KMeans(n_clusters=6, random_state=0)\n",
    "kmeans.fit(X_train)\n",
    "\n",
    "def cluster_acc(Y_pred, Y):\n",
    "    \"\"\"\n",
    "    Finds the cluster accuracy\n",
    "    \"\"\"\n",
    "    from sklearn.utils.linear_assignment_ import linear_assignment\n",
    "    assert Y_pred.size == Y.size\n",
    "    D = max(Y_pred.max(), Y.max())+1\n",
    "    w = np.zeros((D,D), dtype=np.int64)\n",
    "    for i in xrange(Y_pred.size):\n",
    "        w[Y_pred[i], Y[i]] += 1\n",
    "    ind = linear_assignment(w.max() - w)\n",
    "    return sum([w[i,j] for i,j in ind])*1.0/Y_pred.size, w\n",
    "\n",
    "y_pred = kmeans.predict(X_train)\n",
    "cluster_acc(y_pred, y_train)"
   ]
  },
  {
   "cell_type": "markdown",
   "metadata": {},
   "source": [
    "# Just t-SNE"
   ]
  },
  {
   "cell_type": "code",
   "execution_count": null,
   "metadata": {
    "collapsed": false
   },
   "outputs": [],
   "source": [
    "tsne = TSNE(n_components=2)\n",
    "np.set_printoptions(suppress=True)\n",
    "X_tsne = tsne.fit_transform(X_train)\n",
    "\n",
    "from sklearn.neighbors import KNeighborsClassifier\n",
    "knn = KNeighborsClassifier(n_neighbors=5)\n",
    "knn.fit(X_tsne, y_train)"
   ]
  },
  {
   "cell_type": "code",
   "execution_count": null,
   "metadata": {
    "collapsed": false
   },
   "outputs": [],
   "source": [
    "knn.score(X_tsne, y_train[:X_tsne.shape[0]])"
   ]
  },
  {
   "cell_type": "code",
   "execution_count": null,
   "metadata": {
    "collapsed": true
   },
   "outputs": [],
   "source": []
  }
 ],
 "metadata": {
  "kernelspec": {
   "display_name": "Python 2",
   "language": "python",
   "name": "python2"
  },
  "language_info": {
   "codemirror_mode": {
    "name": "ipython",
    "version": 2
   },
   "file_extension": ".py",
   "mimetype": "text/x-python",
   "name": "python",
   "nbconvert_exporter": "python",
   "pygments_lexer": "ipython2",
   "version": "2.7.6"
  }
 },
 "nbformat": 4,
 "nbformat_minor": 2
}
