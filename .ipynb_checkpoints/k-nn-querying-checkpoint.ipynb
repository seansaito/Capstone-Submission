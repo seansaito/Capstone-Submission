{
 "cells": [
  {
   "cell_type": "code",
   "execution_count": null,
   "metadata": {
    "collapsed": false
   },
   "outputs": [],
   "source": [
    "import numpy as np\n",
    "import scipy as sc\n",
    "from scipy.spatial import cKDTree\n",
    "\n",
    "# Generate random points\n",
    "arr = np.random.rand(10, 2)\n",
    "\n",
    "# Initialize tree\n",
    "tree = cKDTree(arr)\n",
    "\n",
    "point = np.random.rand(1, 2)\n",
    "\n",
    "# Get nearest neighbors\n",
    "print point\n",
    "query_res = tree.query(point, k=3)\n",
    "print query_res"
   ]
  },
  {
   "cell_type": "code",
   "execution_count": null,
   "metadata": {
    "collapsed": false
   },
   "outputs": [],
   "source": [
    "nns = arr[query_res[1].ravel()]\n",
    "print nns\n",
    "print nns.shape\n",
    "a = np.vstack([point, nns])\n",
    "print a.shape"
   ]
  },
  {
   "cell_type": "markdown",
   "metadata": {},
   "source": [
    "# Try on MNIST digits"
   ]
  },
  {
   "cell_type": "code",
   "execution_count": null,
   "metadata": {
    "collapsed": false
   },
   "outputs": [],
   "source": [
    "from keras.datasets import mnist\n",
    "import datetime\n",
    "\n",
    "def log(string):\n",
    "    print \"%s: %s\" % (str(datetime.datetime.now())[:-6], string)\n",
    "\n",
    "(x_train, y_train), (x_test, y_test) = mnist.load_data()\n",
    "\n",
    "X_train = x_train.astype(\"float32\") / 255.\n",
    "X_test = x_test.astype(\"float32\") / 255.\n",
    "\n",
    "X_train = X_train.reshape((X_train.shape[0], 784))\n",
    "X_test = X_test.reshape((X_test.shape[0], 784))\n",
    "\n",
    "print X_train.shape\n",
    "print X_test.shape\n",
    "\n",
    "# Initialize tree\n",
    "log(\"Initializing tree...\")\n",
    "mnist_tree = cKDTree(X_test)\n",
    "log(\"Done\")\n",
    "\n",
    "# Query one point\n",
    "test_img = X_test[0]\n",
    "query_res = mnist_tree.query(test_img, k=5)\n",
    "log(\"Query_res:\")\n",
    "print query_res"
   ]
  },
  {
   "cell_type": "code",
   "execution_count": null,
   "metadata": {
    "collapsed": false
   },
   "outputs": [],
   "source": [
    "%matplotlib inline\n",
    "import matplotlib.pyplot as plt\n",
    "\n",
    "# Plot the points\n",
    "nns = X_test[query_res[1].ravel()]\n",
    "to_plot = np.vstack([test_img, nns])\n",
    "\n",
    "for i in range(to_plot.shape[0]):\n",
    "    # Display original\n",
    "    ax = plt.subplot(1, to_plot.shape[0], i + 1)\n",
    "    plt.imshow(to_plot[i].reshape((28, 28)))\n",
    "    ax.get_xaxis().set_visible(False)\n",
    "    ax.get_yaxis().set_visible(False)\n",
    "\n",
    "plt.tight_layout()"
   ]
  },
  {
   "cell_type": "code",
   "execution_count": null,
   "metadata": {
    "collapsed": true
   },
   "outputs": [],
   "source": [
    "# Query and plot multiple points\n",
    "\n",
    "test_array = X_train[:10]\n",
    "query_res = mnist_tree.query(test_array, k=5)[1]\n",
    "\n",
    "nns = []\n",
    "\n",
    "for idx, row in enumerate(query_res):\n",
    "    nn = X_test[row.ravel()]\n",
    "    to_plot = np.vstack([test_array[idx], nn])\n",
    "    nns.append(to_plot)\n",
    "\n",
    "nns = np.stack(nns)"
   ]
  },
  {
   "cell_type": "code",
   "execution_count": null,
   "metadata": {
    "collapsed": false
   },
   "outputs": [],
   "source": [
    "nns.shape"
   ]
  },
  {
   "cell_type": "code",
   "execution_count": null,
   "metadata": {
    "collapsed": false
   },
   "outputs": [],
   "source": [
    "def plot_nearest_neighbors(nns, reshape=(28, 28)):\n",
    "    fig, axs = plt.subplots(nns.shape[0], nns.shape[1], figsize=(32, 32))\n",
    "    \n",
    "    for i in range(nns.shape[0]):\n",
    "        for j in range(nns.shape[1]):\n",
    "            if len(reshape) != 2:\n",
    "                axs[i][j].imshow(\n",
    "                    nns[i, j].reshape(reshape))\n",
    "            else:\n",
    "                axs[i][j].imshow(\n",
    "                    nns[i, j].reshape(reshape), cmap=\"Greys_r\")\n",
    "            axs[i][j].axis(\"off\")\n",
    "    fig.subplots_adjust(wspace=0, hspace=0)\n",
    "    fig.tight_layout()\n",
    "    \n",
    "plot_nearest_neighbors(nns)"
   ]
  },
  {
   "cell_type": "code",
   "execution_count": null,
   "metadata": {
    "collapsed": true
   },
   "outputs": [],
   "source": []
  }
 ],
 "metadata": {
  "kernelspec": {
   "display_name": "Python 2",
   "language": "python",
   "name": "python2"
  },
  "language_info": {
   "codemirror_mode": {
    "name": "ipython",
    "version": 2
   },
   "file_extension": ".py",
   "mimetype": "text/x-python",
   "name": "python",
   "nbconvert_exporter": "python",
   "pygments_lexer": "ipython2",
   "version": "2.7.6"
  }
 },
 "nbformat": 4,
 "nbformat_minor": 2
}
